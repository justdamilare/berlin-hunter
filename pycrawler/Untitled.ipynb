{
 "cells": [
  {
   "cell_type": "code",
   "execution_count": 3,
   "id": "100369cd",
   "metadata": {
    "ExecuteTime": {
     "end_time": "2022-03-21T20:29:21.203399Z",
     "start_time": "2022-03-21T20:29:20.892133Z"
    }
   },
   "outputs": [],
   "source": [
    "import requests\n",
    "\n",
    "cookies = {\n",
    "    'deg_expose_marked': '[]',\n",
    "    '_pk_id.2.5bbb': 'a28e2af57f5fe6eb.1644520044.',\n",
    "    'cookie-tracking': 'decline',\n",
    "    'cookie-marketing': 'accept',\n",
    "    'cookie-maps': 'accept',\n",
    "    'cookie-immo': 'accept',\n",
    "    'cookie-youtube': 'accept',\n",
    "    'degewo-cookie-consent': 'true',\n",
    "    'TS0194984b': '01fe90c44264fcdb94e6fe68f16311d117d8e29c7eb3a1dffed5c1029dff0d0826433165743db1d1886469b7c2346e8f22ecf0a1de',\n",
    "    '_pk_ref.2.5bbb': '%5B%22%22%2C%22%22%2C1647816865%2C%22https%3A%2F%2Fwww.degewo.de%2F%22%5D',\n",
    "    '_pk_ses.2.5bbb': '1',\n",
    "    '_immo-search_session': 'VFNPRnVJZ082b21Sa2ZzWExRV1NSeWt3d3Z6S1YxVzZCZkk2Mi9EanRia1ZjejI2a0tidklhNHhJSDMrbjAvU201TFB4WUZQMjg5QlRhMDg4eGtocEk5T0dGV2VReDR2TFY1UitDL0E2NkxWNHNySFE3bU1Ecng3aXM5SDl1dDRCdFpmOWFwOEZCSjBMOTF6SnRSU2s5ZXJlKzcyOUkvSWE2ZW5XTmRKbkRHcnNVcU9tRTFhaVkyaFVJd3ptK0ZYZW9jYi9xaVowcFJhUGdzWFBVTFlQemxoL05qd3dQOE96MG1aSG9sY2F2aDRRaHE3eUFJYnBRYXgybDF5WkE2NHRCTVRNRmZOR3k1cEpnSUxVZzlGeXdEc2p2R1llNkFad1A3WW1Dc3ozZ1U1MFArK1F0S1pSUHhsck1ZcHNFakgrT3p3VzIxS21Jd205THlpOWJVN29TMytDYVBEVEgvZDlERFVQZTdta0pFQ0JKN1BVemRvUyt3bFdtaUJKbm1Lbk4rNGtoUUlNOXlGaEFNTzF2K1VEUTVVbG4xbi9TY20zTzdjRnIxS2xrQm1nanExRmxDaFJYWk1BYXBWQWpsZCtBdkdOTVNjT3FjMitEZExkNTNnTmFPMlFKZDZsdlhndTRPR1FMOVlEbU1zbVJuMDArTW5hTmNNVTNvUzVISyt1YmZFUE5uUmZVUDl4anJ3SzBZNGRFd3krd09kYzluMDg3WXJXdEZ6QUY4Z3dsZ3JhWVF0RWNPK2l5Z2YxUTJ5RXJsT1paZmVFc2ljRFJCNmZDUzRvaUdha3hiWDNHWXloRktPVWtvMWo3YTh6L3ZPZjFDSms5cThpbVVLcHoyaXBiMDJnVmwrWXMzZzh2WDNSWTVnY2w5NTJDWVJTdFlocDlTU2NxeFRuVDRDUlRrM2VyQkFUSXFuK3JQREFGclU5TVVpSTU3ay93SGVRWVNLUmdzZ0FReFhJaUJzakhTTkxyNDlndDRpSjRKY3dwOXdHS0JMc1BEM3lSZm9tWnRqOSs2OEZBbXdTNnpNQlpoMDVPcC8zMmhCaVgzQTExTkIraUNUQVBFRU1BWT0tLTFvc2JNWlFFWk4yTHhScFM4UHR5TWc9PQ%3D%3D--efbc59ee3cc3367f499c5de13d7a91140b64805a',\n",
    "}\n",
    "\n",
    "headers = {\n",
    "    'authority': 'immosuche.degewo.de',\n",
    "    'pragma': 'no-cache',\n",
    "    'cache-control': 'no-cache',\n",
    "    'sec-ch-ua': '\" Not A;Brand\";v=\"99\", \"Chromium\";v=\"99\", \"Google Chrome\";v=\"99\"',\n",
    "    'accept': 'application/json, text/javascript, */*; q=0.01',\n",
    "    'x-requested-with': 'XMLHttpRequest',\n",
    "    'sec-ch-ua-mobile': '?0',\n",
    "    'user-agent': 'Mozilla/5.0 (Macintosh; Intel Mac OS X 10_15_7) AppleWebKit/537.36 (KHTML, like Gecko) Chrome/99.0.4844.74 Safari/537.36',\n",
    "    'sec-ch-ua-platform': '\"macOS\"',\n",
    "    'sec-fetch-site': 'same-origin',\n",
    "    'sec-fetch-mode': 'cors',\n",
    "    'sec-fetch-dest': 'empty',\n",
    "    'referer': 'https://immosuche.degewo.de/de/search?size=10&page=1&property_type_id=1&categories%5B%5D=1&lat=&lon=&area=&address%5Bstreet%5D=&address%5Bcity%5D=&address%5Bzipcode%5D=&address%5Bdistrict%5D=&address%5Braw%5D=&district=&property_number=&price_switch=true&price_radio=null&price_from=&price_to=&qm_radio=null&qm_from=&qm_to=&rooms_radio=null&rooms_from=&rooms_to=&wbs_required=&order=rent_total_without_vat_asc',\n",
    "    'accept-language': 'en-US,en;q=0.9',\n",
    "    # Requests sorts cookies= alphabetically\n",
    "    # 'cookie': 'deg_expose_marked=[]; _pk_id.2.5bbb=a28e2af57f5fe6eb.1644520044.; cookie-tracking=decline; cookie-marketing=accept; cookie-maps=accept; cookie-immo=accept; cookie-youtube=accept; degewo-cookie-consent=true; TS0194984b=01fe90c44264fcdb94e6fe68f16311d117d8e29c7eb3a1dffed5c1029dff0d0826433165743db1d1886469b7c2346e8f22ecf0a1de; _pk_ref.2.5bbb=%5B%22%22%2C%22%22%2C1647816865%2C%22https%3A%2F%2Fwww.degewo.de%2F%22%5D; _pk_ses.2.5bbb=1; _immo-search_session=VFNPRnVJZ082b21Sa2ZzWExRV1NSeWt3d3Z6S1YxVzZCZkk2Mi9EanRia1ZjejI2a0tidklhNHhJSDMrbjAvU201TFB4WUZQMjg5QlRhMDg4eGtocEk5T0dGV2VReDR2TFY1UitDL0E2NkxWNHNySFE3bU1Ecng3aXM5SDl1dDRCdFpmOWFwOEZCSjBMOTF6SnRSU2s5ZXJlKzcyOUkvSWE2ZW5XTmRKbkRHcnNVcU9tRTFhaVkyaFVJd3ptK0ZYZW9jYi9xaVowcFJhUGdzWFBVTFlQemxoL05qd3dQOE96MG1aSG9sY2F2aDRRaHE3eUFJYnBRYXgybDF5WkE2NHRCTVRNRmZOR3k1cEpnSUxVZzlGeXdEc2p2R1llNkFad1A3WW1Dc3ozZ1U1MFArK1F0S1pSUHhsck1ZcHNFakgrT3p3VzIxS21Jd205THlpOWJVN29TMytDYVBEVEgvZDlERFVQZTdta0pFQ0JKN1BVemRvUyt3bFdtaUJKbm1Lbk4rNGtoUUlNOXlGaEFNTzF2K1VEUTVVbG4xbi9TY20zTzdjRnIxS2xrQm1nanExRmxDaFJYWk1BYXBWQWpsZCtBdkdOTVNjT3FjMitEZExkNTNnTmFPMlFKZDZsdlhndTRPR1FMOVlEbU1zbVJuMDArTW5hTmNNVTNvUzVISyt1YmZFUE5uUmZVUDl4anJ3SzBZNGRFd3krd09kYzluMDg3WXJXdEZ6QUY4Z3dsZ3JhWVF0RWNPK2l5Z2YxUTJ5RXJsT1paZmVFc2ljRFJCNmZDUzRvaUdha3hiWDNHWXloRktPVWtvMWo3YTh6L3ZPZjFDSms5cThpbVVLcHoyaXBiMDJnVmwrWXMzZzh2WDNSWTVnY2w5NTJDWVJTdFlocDlTU2NxeFRuVDRDUlRrM2VyQkFUSXFuK3JQREFGclU5TVVpSTU3ay93SGVRWVNLUmdzZ0FReFhJaUJzakhTTkxyNDlndDRpSjRKY3dwOXdHS0JMc1BEM3lSZm9tWnRqOSs2OEZBbXdTNnpNQlpoMDVPcC8zMmhCaVgzQTExTkIraUNUQVBFRU1BWT0tLTFvc2JNWlFFWk4yTHhScFM4UHR5TWc9PQ%3D%3D--efbc59ee3cc3367f499c5de13d7a91140b64805a',\n",
    "}\n",
    "\n",
    "params = [\n",
    "    ('utf8', '\\u2713'),\n",
    "    ('property_type_id', '1'),\n",
    "    ('categories[]', '1'),\n",
    "    ('property_number', ''),\n",
    "    ('address[raw]', ''),\n",
    "    ('address[street]', ''),\n",
    "    ('address[city]', ''),\n",
    "    ('address[zipcode]', ''),\n",
    "    ('address[district]', ''),\n",
    "    ('district', ''),\n",
    "    ('price_switch', 'false'),\n",
    "    ('price_switch', 'on'),\n",
    "    ('price_from', ''),\n",
    "    ('price_to', ''),\n",
    "    ('price_from', ''),\n",
    "    ('price_to', ''),\n",
    "    ('price_radio', 'null'),\n",
    "    ('price_from', ''),\n",
    "    ('price_to', ''),\n",
    "    ('qm_radio', 'null'),\n",
    "    ('qm_from', ''),\n",
    "    ('qm_to', ''),\n",
    "    ('rooms_radio', 'null'),\n",
    "    ('rooms_from', ''),\n",
    "    ('rooms_to', ''),\n",
    "    ('features[]', ''),\n",
    "    ('wbs_required', ''),\n",
    "    ('order', 'rent_total_without_vat_asc'),\n",
    "]\n",
    "\n",
    "response = requests.get('https://immosuche.degewo.de/de/search.json', headers=headers, params=params, cookies=cookies)"
   ]
  },
  {
   "cell_type": "code",
   "execution_count": 7,
   "id": "c87b98b3",
   "metadata": {
    "ExecuteTime": {
     "end_time": "2022-03-21T20:32:07.236974Z",
     "start_time": "2022-03-21T20:32:07.233105Z"
    }
   },
   "outputs": [],
   "source": [
    "json = response.json()"
   ]
  },
  {
   "cell_type": "code",
   "execution_count": 9,
   "id": "bc502f0d",
   "metadata": {
    "ExecuteTime": {
     "end_time": "2022-03-21T20:32:59.657192Z",
     "start_time": "2022-03-21T20:32:59.646832Z"
    }
   },
   "outputs": [
    {
     "data": {
      "text/plain": [
       "{'id': 'W1100-22006-0276-0304',\n",
       " 'hidden': False,\n",
       " 'property_number': 'W1100-22006-0276-0304',\n",
       " 'original_external_id': 'W1100.22006.0276-0304',\n",
       " 'open_immo_object': True,\n",
       " 'property_authority_name': None,\n",
       " 'contact_link': 'http://degewo.de/1100',\n",
       " 'headline': '1 Zimmer-Wohnung in Spandau für WBS-Berechtigte!',\n",
       " 'living_space': 34.23,\n",
       " 'commercial_space': None,\n",
       " 'property_space': None,\n",
       " 'number_of_rooms': '1 Zimmer',\n",
       " 'zipcode': '13597',\n",
       " 'city': 'Berlin',\n",
       " 'street': 'Stichstraße',\n",
       " 'street_number': '6',\n",
       " 'floor': 3.0,\n",
       " 'number_of_floors': 6.0,\n",
       " 'story': None,\n",
       " 'rent_cold': '222,50 €',\n",
       " 'rent_total_with_vat': '358,55 €',\n",
       " 'rent_total_without_vat': '358,55 €',\n",
       " 'rent_pa': None,\n",
       " 'buying_price': None,\n",
       " 'service_charges_cold': 78.21,\n",
       " 'service_charges_warm': 57.84,\n",
       " 'price_per_square_meter': None,\n",
       " 'common_charge': None,\n",
       " 'service_fee': None,\n",
       " 'deposit': 'drei Nettokaltmieten',\n",
       " 'company': None,\n",
       " 'construction_year': 1975,\n",
       " 'location_details_environment': 'Bus 131, M41; S-Bahn S3, S9; U-Bahn U2',\n",
       " 'location_details_inhouse': None,\n",
       " 'location_details_story': None,\n",
       " 'description': None,\n",
       " 'available_from': 'sofort',\n",
       " 'other_information': 'Bitte beachten Sie, dass zur Anmietung der Wohnung ein Wohnberechtigungsschein (WBS) oder WBS- fähiges Einkommen benötigt wird.\\n\\nMindestmietdauer\\nDas Mietverhältnis wird für unbestimmte Zeit geschlossen und kann mit der gesetzlichen Kündigungsfrist gekündigt werden. Bitte beachten Sie, dass im Mietvertrag eine Mindestmietdauer von einem Jahr vereinbart wird.',\n",
       " 'logo': None,\n",
       " 'wenr': None,\n",
       " 'energy_efficiency': 137.0,\n",
       " 'energy_efficiency_class': 'E',\n",
       " 'energy_certificate_type': 'VERBRAUCH',\n",
       " 'primary_energy_carrier': 'Fernwärme',\n",
       " 'wbs_required': True,\n",
       " 'location': {'lat': 52.527136, 'lon': 13.220864},\n",
       " 'property_type_id': 1,\n",
       " 'property_type': None,\n",
       " 'housing_type_id': None,\n",
       " 'housing_type': None,\n",
       " 'condition_id': None,\n",
       " 'condition': None,\n",
       " 'authority_id': None,\n",
       " 'authority': {'surname': 'degewo AG',\n",
       "  'prename': None,\n",
       "  'telephone': None,\n",
       "  'fax': None,\n",
       "  'email': 'anfragen@degewo.interessentenanfragen.de',\n",
       "  'email_expose': 'anfragen@degewo.interessentenanfragen.de',\n",
       "  'zipcode': '10772',\n",
       "  'city': 'Berlin',\n",
       "  'street': 'Postfach',\n",
       "  'street_number': None,\n",
       "  'customer_service_description': None,\n",
       "  'opening_hours_title': None,\n",
       "  'opening_hours_1': None,\n",
       "  'opening_hours_2': None,\n",
       "  'opening_hours_3': None,\n",
       "  'opening_hours_4': None},\n",
       " 'neighborhood_id': 4,\n",
       " 'neighborhood': {'name': None, 'district': 'Spandau'},\n",
       " 'external_data': [{'filename': 'degewo_01fc1d26-87fd-409a-a053-f4bf5fb011ef.jpg',\n",
       "   'name': '10',\n",
       "   'type': 'Außenansicht',\n",
       "   'priority': 1},\n",
       "  {'filename': 'degewo_8cd3d396-9401-40a5-8594-47fca69452ef.jpg',\n",
       "   'name': '3',\n",
       "   'type': 'Innenansicht',\n",
       "   'priority': 2},\n",
       "  {'filename': 'degewo_1e78b9e7-beae-4eae-a686-aaeb1b7be1d0.jpg',\n",
       "   'name': '6',\n",
       "   'type': 'Innenansicht',\n",
       "   'priority': 3},\n",
       "  {'filename': 'degewo_6635f64a-d0c6-4f27-8bda-38792640af31.jpg',\n",
       "   'name': '1',\n",
       "   'type': 'Innenansicht',\n",
       "   'priority': 4},\n",
       "  {'filename': 'degewo_ee65b570-fa7c-4f98-b921-c56fa9ffd21c.jpg',\n",
       "   'name': '7',\n",
       "   'type': 'Innenansicht',\n",
       "   'priority': 5},\n",
       "  {'filename': 'degewo_ff436547-168c-4515-af30-3c2927af728e.jpg',\n",
       "   'name': '2',\n",
       "   'type': 'Innenansicht',\n",
       "   'priority': 6},\n",
       "  {'filename': 'degewo_a9190c9d-02e4-4ec9-8c54-0cb55c6eed5e.jpg',\n",
       "   'name': '4',\n",
       "   'type': 'Innenansicht',\n",
       "   'priority': 7},\n",
       "  {'filename': 'degewo_396dd1c9-9abb-448d-80fa-25f9ae9e8b21.jpg',\n",
       "   'name': '5',\n",
       "   'type': 'Innenansicht',\n",
       "   'priority': 8},\n",
       "  {'filename': 'degewo_7416e787-2675-4a82-ad16-b65eb4041a1a.jpg',\n",
       "   'name': '8',\n",
       "   'type': 'Innenansicht',\n",
       "   'priority': 9},\n",
       "  {'filename': 'degewo_795525b5-003d-4d88-8fdb-9f456c10e4eb.jpg',\n",
       "   'name': '9',\n",
       "   'type': 'Innenansicht',\n",
       "   'priority': 10},\n",
       "  {'filename': 'degewo_9c655ab9-896f-43ed-b017-fcb72911d84d.jpg',\n",
       "   'name': 'Grundriss Korr.',\n",
       "   'type': 'Grundriss',\n",
       "   'priority': 11},\n",
       "  {'filename': 'http://degewo.de/1100',\n",
       "   'name': 'Angaben des Vermieters',\n",
       "   'type': None,\n",
       "   'priority': 12}],\n",
       " 'furnishings': [],\n",
       " 'furnishings_text': 'Fern-/Zentralheizung, Fernwarmwasserversorgung',\n",
       " 'property_categories': [{'id': 1, 'name': 'Wohnung'}],\n",
       " 'special_offers': [],\n",
       " 'district_tour': None,\n",
       " 'is_business': False,\n",
       " 'space': '34,2 m²',\n",
       " 'price': '358,55 €',\n",
       " 'address': 'Stichstraße 6 | Spandau',\n",
       " 'full_address': 'Stichstraße 6 | 13597 Berlin',\n",
       " 'thumb_path': '/images/properties/thumbs/135x101/degewo_01fc1d26-87fd-409a-a053-f4bf5fb011ef.jpg',\n",
       " 'thumb_url': 'https://immosuche.degewo.de/images/properties/thumbs/135x101/degewo_01fc1d26-87fd-409a-a053-f4bf5fb011ef.jpg',\n",
       " 'mobile_thumb_path': '/images/properties/full/760x570/degewo_01fc1d26-87fd-409a-a053-f4bf5fb011ef.jpg',\n",
       " 'mobile_thumb_url': 'https://immosuche.degewo.de/images/properties/full/760x570/degewo_01fc1d26-87fd-409a-a053-f4bf5fb011ef.jpg',\n",
       " 'property_path': '/de/properties/W1100-22006-0276-0304',\n",
       " 'price_label': 'Warmmiete:'}"
      ]
     },
     "execution_count": 9,
     "metadata": {},
     "output_type": "execute_result"
    }
   ],
   "source": [
    "json[\"immos\"][0]"
   ]
  },
  {
   "cell_type": "code",
   "execution_count": 10,
   "id": "5c0368e9",
   "metadata": {
    "ExecuteTime": {
     "end_time": "2022-03-21T20:41:57.905719Z",
     "start_time": "2022-03-21T20:41:57.792302Z"
    }
   },
   "outputs": [],
   "source": [
    "\n",
    "headers = {\n",
    "    'authority': 'immo-api.deutsche-wohnen.com',\n",
    "    'pragma': 'no-cache',\n",
    "    'cache-control': 'no-cache',\n",
    "    'sec-ch-ua': '\" Not A;Brand\";v=\"99\", \"Chromium\";v=\"99\", \"Google Chrome\";v=\"99\"',\n",
    "    'accept': '*/*',\n",
    "    'content-type': 'application/x-www-form-urlencoded; charset=UTF-8',\n",
    "    'sec-ch-ua-mobile': '?0',\n",
    "    'user-agent': 'Mozilla/5.0 (Macintosh; Intel Mac OS X 10_15_7) AppleWebKit/537.36 (KHTML, like Gecko) Chrome/99.0.4844.74 Safari/537.36',\n",
    "    'sec-ch-ua-platform': '\"macOS\"',\n",
    "    'origin': 'https://www.deutsche-wohnen.com',\n",
    "    'sec-fetch-site': 'same-site',\n",
    "    'sec-fetch-mode': 'cors',\n",
    "    'sec-fetch-dest': 'empty',\n",
    "    'accept-language': 'en-US,en;q=0.9',\n",
    "}\n",
    "\n",
    "data = '{\"infrastructure\":{},\"flatTypes\":{},\"other\":{},\"commercializationType\":\"rent\",\"utilizationType\":\"flat\",\"location\":\"Berlin\",\"city\":\"Berlin\",\"locale\":\"de\"}'\n",
    "\n",
    "response = requests.post('https://immo-api.deutsche-wohnen.com/estate/findByFilter', headers=headers, data=data)"
   ]
  },
  {
   "cell_type": "code",
   "execution_count": 12,
   "id": "676ac08b",
   "metadata": {
    "ExecuteTime": {
     "end_time": "2022-03-21T20:42:21.801623Z",
     "start_time": "2022-03-21T20:42:21.798674Z"
    }
   },
   "outputs": [],
   "source": [
    "dw = response.json()"
   ]
  },
  {
   "cell_type": "code",
   "execution_count": 14,
   "id": "a5b1f0d0",
   "metadata": {
    "ExecuteTime": {
     "end_time": "2022-03-21T20:42:32.613814Z",
     "start_time": "2022-03-21T20:42:32.609293Z"
    }
   },
   "outputs": [
    {
     "data": {
      "text/plain": [
       "'1323/0005/0012'"
      ]
     },
     "execution_count": 14,
     "metadata": {},
     "output_type": "execute_result"
    }
   ],
   "source": [
    "dw[0]['id']"
   ]
  },
  {
   "cell_type": "code",
   "execution_count": null,
   "id": "e91d8ae8",
   "metadata": {},
   "outputs": [],
   "source": []
  }
 ],
 "metadata": {
  "kernelspec": {
   "display_name": "Python 3",
   "language": "python",
   "name": "python3"
  },
  "language_info": {
   "codemirror_mode": {
    "name": "ipython",
    "version": 3
   },
   "file_extension": ".py",
   "mimetype": "text/x-python",
   "name": "python",
   "nbconvert_exporter": "python",
   "pygments_lexer": "ipython3",
   "version": "3.9.5"
  }
 },
 "nbformat": 4,
 "nbformat_minor": 5
}
